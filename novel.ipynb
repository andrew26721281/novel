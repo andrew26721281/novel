{
 "cells": [
  {
   "cell_type": "code",
   "execution_count": 32,
   "metadata": {},
   "outputs": [],
   "source": [
    "from selenium import webdriver\n",
    "from selenium.webdriver.chrome.options import Options\n",
    "from selenium.webdriver.common.by import By\n",
    "from selenium.webdriver.support.ui import WebDriverWait\n",
    "from selenium.webdriver.support import expected_conditions as EC\n",
    "import time\n",
    "from bs4 import BeautifulSoup\n",
    "import os\n",
    "import re"
   ]
  },
  {
   "cell_type": "code",
   "execution_count": 33,
   "metadata": {},
   "outputs": [],
   "source": [
    "def save_novel():\n",
    "    count=0\n",
    "\n",
    "    for i in range(200):\n",
    "\n",
    "\n",
    "        soup = BeautifulSoup(driver.page_source, 'html.parser')\n",
    "        end_point=soup.find('span',class_='content-wrap')#後續為付費內容，無法讀取全文\n",
    "\n",
    "        if  '上架感言' in end_point.text or i==5:#總共多開了1個分頁，不用時將之關閉\n",
    "            driver.close()\n",
    "            driver.switch_to.window(driver.window_handles[0])\n",
    "            break\n",
    "\n",
    "        useless_chapter=soup.find('span',class_='content-wrap')\n",
    "        \n",
    "        if re.search('第[\\w]*章', useless_chapter.text)==None and i!=0:#中間內容可能有請假，非章節內容\n",
    "            print(useless_chapter.text)\n",
    "            driver.find_element(By.PARTIAL_LINK_TEXT, '下一章').click()\n",
    "            \n",
    "\n",
    "            time.sleep(3)\n",
    "            pass\n",
    "        count+=1\n",
    "        soup = BeautifulSoup(driver.page_source, 'html.parser')\n",
    "\n",
    "        if i==0:\n",
    "            title=soup.find('h1').text#小說名稱\n",
    "            print(title)\n",
    "        thumb_up=soup.find('span',class_='j_admireNum')#讚賞人數\n",
    "        result=soup.find_all('span',class_='content-wrap')[1:]#內文\n",
    "\n",
    "        string=''\n",
    "        for i in range(len(result)):\n",
    "            string+=result[i].text.lstrip()\n",
    "        string+='?????'+thumb_up.text#方便在未來切割文字，與按讚人數\n",
    "\n",
    "        if not os.path.isdir(title):\n",
    "            os.mkdir(title)\n",
    "        path = title+'/'+str(count)+'.txt'\n",
    "        f = open(path, 'w', encoding='UTF-8')\n",
    "        f.write(string)\n",
    "        f.close()\n",
    "\n",
    "        driver.find_element(By.PARTIAL_LINK_TEXT, '下一章').click()\n",
    "\n",
    "        time.sleep(3)"
   ]
  },
  {
   "cell_type": "code",
   "execution_count": 34,
   "metadata": {},
   "outputs": [
    {
     "name": "stdout",
     "output_type": "stream",
     "text": [
      "从红月开始\n",
      "人族镇守使\n",
      "全属性武道\n",
      "东晋北府一丘八\n",
      "我的云养女友\n"
     ]
    }
   ],
   "source": [
    "options = Options()\n",
    "options.add_argument(\"--disable-notifications\")\n",
    "\n",
    "# 啟動 chrome driver\n",
    " \n",
    "driver = webdriver.Chrome('../chromedriver', options=options)\n",
    "# 指定開啟網址\n",
    "driver.get(\"https://www.qidian.com/rank/yuepiao/\") \n",
    "button= WebDriverWait(driver, 5).until(\n",
    "            EC.presence_of_element_located((By.CLASS_NAME,'rank-body'))                                                          \n",
    "        )\n",
    "novel=button.find_elements(By.TAG_NAME,'li')\n",
    "\n",
    "flag=0\n",
    "for i in range(5):#幾本書\n",
    "    novel[i].find_element(By.TAG_NAME,'a').click()\n",
    "    driver.switch_to.window(driver.window_handles[1])\n",
    "    \n",
    "    WebDriverWait(driver, 5).until(\n",
    "        EC.presence_of_element_located((By.XPATH, '//*[@id=\"readBtn\"]'))                                                          \n",
    "    ).click()#start reading\n",
    "    \n",
    "    if flag==0:\n",
    "        WebDriverWait(driver, 5).until(\n",
    "            EC.presence_of_element_located((By.LINK_TEXT,'关闭'))                                                          \n",
    "        ).click()#when first visit,need to close advertise\n",
    "        flag=1\n",
    "    save_novel()"
   ]
  },
  {
   "cell_type": "code",
   "execution_count": null,
   "metadata": {},
   "outputs": [],
   "source": []
  },
  {
   "cell_type": "code",
   "execution_count": 35,
   "metadata": {},
   "outputs": [],
   "source": [
    "driver.close()"
   ]
  },
  {
   "cell_type": "code",
   "execution_count": null,
   "metadata": {},
   "outputs": [],
   "source": []
  }
 ],
 "metadata": {
  "kernelspec": {
   "display_name": "Python 3",
   "language": "python",
   "name": "python3"
  },
  "language_info": {
   "codemirror_mode": {
    "name": "ipython",
    "version": 3
   },
   "file_extension": ".py",
   "mimetype": "text/x-python",
   "name": "python",
   "nbconvert_exporter": "python",
   "pygments_lexer": "ipython3",
   "version": "3.7.6"
  }
 },
 "nbformat": 4,
 "nbformat_minor": 4
}
